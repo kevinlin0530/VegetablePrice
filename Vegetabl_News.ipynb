{
 "cells": [
  {
   "cell_type": "code",
   "execution_count": 1,
   "id": "06d5460a-685b-4712-abcd-0ca987b0a620",
   "metadata": {},
   "outputs": [],
   "source": [
    "import requests as req\n",
    "from bs4 import BeautifulSoup as bs\n",
    "import re, json\n",
    "from time import sleep\n",
    "from random import randint\n",
    "from time import sleep\n",
    "import re\n",
    "import os\n",
    "from fake_useragent import UserAgent\n",
    "ua = UserAgent(cache=True) # cache=True 表示從已經儲存的列表中提取\n",
    "import json\n",
    "\n",
    "# url = \"https://www.afa.gov.tw/cht/index.php?code=list&ids=307&page=1\"\n",
    "folderPath = 'news'\n",
    "\n",
    "if not os.path.exists(folderPath):\n",
    "    os.makedirs(folderPath)\n",
    "\n",
    "\n",
    "my_headers = {\n",
    "    'user-agent': ua.random\n",
    "}\n",
    "pages = 10\n",
    "listSp = []\n",
    "inners = []\n",
    "contentList = []\n",
    "regex = r'\\d{3}-[0-9]{2}-\\d{2}'"
   ]
  },
  {
   "cell_type": "code",
   "execution_count": 8,
   "id": "15537f1d",
   "metadata": {},
   "outputs": [],
   "source": [
    "\n",
    "# url = \"https://www.afa.gov.tw/cht/index.php?code=list&ids=307&page=1\"\n",
    "for page in range(pages)[1:10]:\n",
    "    rs = req.get(f'https://www.afa.gov.tw/cht/index.php?code=list&ids=307&page={page}', headers = my_headers)\n",
    "\n",
    "    soup = bs(rs.text,\"lxml\")\n",
    "    \n",
    "    sps=soup.select(\"div.agricultural-news-ribbon span\")\n",
    "    for sp in sps:\n",
    "        listMatch = re.findall(regex , sp.get_text())\n",
    "#         print(listMatch)\n",
    "        if (listMatch):\n",
    "            listSp.append(listMatch)\n",
    "\n",
    "\n",
    "\n",
    "# for sp in sps:\n",
    "#     listMatch = re.findall(regex , sp.get_text())\n",
    "#     if (listMatch):\n",
    "# #         print(listMatch)\n",
    "# #         print(type(listMatch))\n",
    "#         listSp.append(listMatch)\n",
    "# print(listSp[2])        "
   ]
  },
  {
   "cell_type": "code",
   "execution_count": 2,
   "id": "b3dc0f5e",
   "metadata": {},
   "outputs": [],
   "source": [
    "for page in range(pages)[1:10]:\n",
    "    rs=req.get(f'https://www.afa.gov.tw/cht/index.php?code=list&ids=307&page={page}', headers = my_headers )\n",
    "    soup = bs(rs.text,\"lxml\")\n",
    "    titles=soup.select(\"div.row a.article_class\")\n",
    "    sleep(2)\n",
    "    for title in titles:\n",
    "#         print(title['href'])\n",
    "        inners.append(title['href'])"
   ]
  },
  {
   "cell_type": "code",
   "execution_count": 3,
   "id": "264442bc",
   "metadata": {},
   "outputs": [],
   "source": [
    "for inner in inners:\n",
    "    rs = req.get(inner, headers = my_headers)\n",
    "    \n",
    "    soup = bs(rs.text,\"lxml\")\n",
    "    \n",
    "    content = soup.select_one(\"div article.shared-content-text\").get_text()\n",
    "    contentList.append(content)"
   ]
  },
  {
   "cell_type": "code",
   "execution_count": 14,
   "id": "6e72de32",
   "metadata": {},
   "outputs": [
    {
     "name": "stdout",
     "output_type": "stream",
     "text": [
      "　　農委會主委陳吉仲於9-10日率所轄農糧署、漁業署、農業金融局、畜產試驗所、水產試驗所、種苗改良繁殖場、輔導處等單位主管赴金門視察金門農業發展，並特別拜會楊鎮浯縣長，雙方就擴大金酒在臺契作高粱、農業淨零碳排及海洋資源開發等議題進行交流。　　　　陳吉仲表示，今天來到金門，就是特別來感謝金門縣政府及金酒公司同意以每公斤21元與臺灣各地農會契作高粱，並派員來臺驗收，免去臺灣農民種植高粱的疑慮，使得今年高粱種植面積，達成設定的1,000公頃目標，對於減少臺灣稻作面積及提高水資源利用效率具有重大意義。陳主委期許金酒在臺契作，能穩定高粱原料供應，強化高粱品質及安全，並降低金門高粱碳足跡，提昇金酒公司企業形象。也希望金酒公司能提高契作價格，增加農民種植誘因，讓明年種植面積可以倍增到2,000公頃，並逐年擴增。　　　　金門縣長楊鎮浯於會談中，則是感謝農委會對於金門農業發展的關心，前兩年金門面臨五十年來最嚴重的旱災，除了協助農業天然災害現金救助及低利貸款，農委會也特別請農水署來金門改進農業灌溉系統，提升在地蔬果產量。以及在高粱契作的籌劃及協助，讓談論多年的在臺契作高粱可以實現。並承諾待金酒公司今年契作的高粱量產成果出來後，明年可以來檢討契作價格，進一步擴大契作面積。　　　　此次農委會陳吉仲主委行程，特別於金門農試所與農民座談，了解地區農民實際需求，針對農民農機及用水的迫切需求，指示農糧署及農水署等相關單位給予實質的協助。　　　　另亦前往農會乾燥中心瞭解營運狀況及穀物收購流程，以及至新湖漁港瞭解疏浚及浮動碼頭修繕狀況。因金門在此次全國第六屆百大青農遴選計有張斯翔、陳玉嘉2位農友獲獎，陳主委亦特別前往有機專區以及青年牧場，拜會2位地方青農，瞭解他們從農的辛苦歷程，並鼓勵青年朋友一起加入農業的大家庭。聯絡人：蘇副署長茂祥聯絡人電話：02-23417186\n"
     ]
    }
   ],
   "source": [
    "print(contentList[0])"
   ]
  },
  {
   "cell_type": "code",
   "execution_count": 23,
   "id": "e15b9ea3",
   "metadata": {},
   "outputs": [],
   "source": [
    "i=0\n",
    "pages = 10\n",
    "for page in range(pages)[1:10]:\n",
    "    rs=req.get(f'https://www.afa.gov.tw/cht/index.php?code=list&ids=307&page={page}', headers = my_headers )\n",
    "    soup = bs(rs.text,\"lxml\")\n",
    "    titles=soup.select(\"div.row a.article_class\")\n",
    "    sleep(2)\n",
    "    for title in titles:\n",
    "        with open(f'{folderPath}/{listSp[i]}.txt','w',encoding=\"UTF-8\") as file:\n",
    "            Jcontent = {\n",
    "                \"tilte\":title.get_text(),\n",
    "                \"contents\":contentList[i]\n",
    "            }\n",
    "            json.dump(Jcontent,file,ensure_ascii=False)\n",
    "            i=i+1"
   ]
  }
 ],
 "metadata": {
  "kernelspec": {
   "display_name": "Python 3 (ipykernel)",
   "language": "python",
   "name": "python3"
  },
  "language_info": {
   "codemirror_mode": {
    "name": "ipython",
    "version": 3
   },
   "file_extension": ".py",
   "mimetype": "text/x-python",
   "name": "python",
   "nbconvert_exporter": "python",
   "pygments_lexer": "ipython3",
   "version": "3.9.12"
  }
 },
 "nbformat": 4,
 "nbformat_minor": 5
}
